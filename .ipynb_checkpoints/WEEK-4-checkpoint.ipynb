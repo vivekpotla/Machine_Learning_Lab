{
 "cells": [
  {
   "cell_type": "markdown",
   "id": "5290451f",
   "metadata": {},
   "source": [
    "# WEEK 4 "
   ]
  },
  {
   "cell_type": "markdown",
   "id": "812019a5",
   "metadata": {},
   "source": [
    "importing the libraries"
   ]
  },
  {
   "cell_type": "code",
   "execution_count": 6,
   "id": "b8dd4978",
   "metadata": {},
   "outputs": [],
   "source": [
    "import numpy as np\n",
    "import matplotlib.pyplot as plt\n",
    "import random\n",
    "import pandas as pd\n",
    "from sklearn.model_selection import train_test_split"
   ]
  },
  {
   "cell_type": "markdown",
   "id": "4121a604",
   "metadata": {},
   "source": [
    "Importing the iris dataset"
   ]
  },
  {
   "cell_type": "code",
   "execution_count": 7,
   "id": "680af773",
   "metadata": {},
   "outputs": [],
   "source": [
    "iris_ds= pd.read_csv(r'C:\\Users\\Admin\\20071A05A2_ML_LAB\\DataSets\\Iris.csv')"
   ]
  },
  {
   "cell_type": "code",
   "execution_count": 8,
   "id": "88d677c4",
   "metadata": {},
   "outputs": [
    {
     "data": {
      "text/html": [
       "<div>\n",
       "<style scoped>\n",
       "    .dataframe tbody tr th:only-of-type {\n",
       "        vertical-align: middle;\n",
       "    }\n",
       "\n",
       "    .dataframe tbody tr th {\n",
       "        vertical-align: top;\n",
       "    }\n",
       "\n",
       "    .dataframe thead th {\n",
       "        text-align: right;\n",
       "    }\n",
       "</style>\n",
       "<table border=\"1\" class=\"dataframe\">\n",
       "  <thead>\n",
       "    <tr style=\"text-align: right;\">\n",
       "      <th></th>\n",
       "      <th>Id</th>\n",
       "      <th>SepalLengthCm</th>\n",
       "      <th>SepalWidthCm</th>\n",
       "      <th>PetalLengthCm</th>\n",
       "      <th>PetalWidthCm</th>\n",
       "      <th>Species</th>\n",
       "    </tr>\n",
       "  </thead>\n",
       "  <tbody>\n",
       "    <tr>\n",
       "      <th>0</th>\n",
       "      <td>1</td>\n",
       "      <td>5.1</td>\n",
       "      <td>3.5</td>\n",
       "      <td>1.4</td>\n",
       "      <td>0.2</td>\n",
       "      <td>Iris-setosa</td>\n",
       "    </tr>\n",
       "    <tr>\n",
       "      <th>1</th>\n",
       "      <td>2</td>\n",
       "      <td>4.9</td>\n",
       "      <td>3.0</td>\n",
       "      <td>1.4</td>\n",
       "      <td>0.2</td>\n",
       "      <td>Iris-setosa</td>\n",
       "    </tr>\n",
       "    <tr>\n",
       "      <th>2</th>\n",
       "      <td>3</td>\n",
       "      <td>4.7</td>\n",
       "      <td>3.2</td>\n",
       "      <td>1.3</td>\n",
       "      <td>0.2</td>\n",
       "      <td>Iris-setosa</td>\n",
       "    </tr>\n",
       "    <tr>\n",
       "      <th>3</th>\n",
       "      <td>4</td>\n",
       "      <td>4.6</td>\n",
       "      <td>3.1</td>\n",
       "      <td>1.5</td>\n",
       "      <td>0.2</td>\n",
       "      <td>Iris-setosa</td>\n",
       "    </tr>\n",
       "    <tr>\n",
       "      <th>4</th>\n",
       "      <td>5</td>\n",
       "      <td>5.0</td>\n",
       "      <td>3.6</td>\n",
       "      <td>1.4</td>\n",
       "      <td>0.2</td>\n",
       "      <td>Iris-setosa</td>\n",
       "    </tr>\n",
       "  </tbody>\n",
       "</table>\n",
       "</div>"
      ],
      "text/plain": [
       "   Id  SepalLengthCm  SepalWidthCm  PetalLengthCm  PetalWidthCm      Species\n",
       "0   1            5.1           3.5            1.4           0.2  Iris-setosa\n",
       "1   2            4.9           3.0            1.4           0.2  Iris-setosa\n",
       "2   3            4.7           3.2            1.3           0.2  Iris-setosa\n",
       "3   4            4.6           3.1            1.5           0.2  Iris-setosa\n",
       "4   5            5.0           3.6            1.4           0.2  Iris-setosa"
      ]
     },
     "execution_count": 8,
     "metadata": {},
     "output_type": "execute_result"
    }
   ],
   "source": [
    "iris_ds.head()"
   ]
  },
  {
   "cell_type": "code",
   "execution_count": 9,
   "id": "91ac7b56",
   "metadata": {},
   "outputs": [
    {
     "data": {
      "text/plain": [
       "Index(['Id', 'SepalLengthCm', 'SepalWidthCm', 'PetalLengthCm', 'PetalWidthCm',\n",
       "       'Species'],\n",
       "      dtype='object')"
      ]
     },
     "execution_count": 9,
     "metadata": {},
     "output_type": "execute_result"
    }
   ],
   "source": [
    "iris_ds.columns"
   ]
  },
  {
   "cell_type": "markdown",
   "id": "d1459a68",
   "metadata": {},
   "source": [
    "Splitting the dataset into train and test data"
   ]
  },
  {
   "cell_type": "code",
   "execution_count": 22,
   "id": "70c07032",
   "metadata": {},
   "outputs": [],
   "source": [
    "x=iris_ds[['SepalLengthCm','SepalWidthCm','PetalLengthCm','PetalWidthCm']]\n",
    "y=iris_ds['Species']\n",
    "x_train ,x_test ,y_train,y_test =train_test_split(x,y,test_size=0.20)"
   ]
  },
  {
   "cell_type": "code",
   "execution_count": null,
   "id": "c222a864",
   "metadata": {},
   "outputs": [],
   "source": []
  },
  {
   "cell_type": "markdown",
   "id": "8422137f",
   "metadata": {},
   "source": [
    "Printing the training and testing data"
   ]
  },
  {
   "cell_type": "code",
   "execution_count": 24,
   "id": "d2fa1f1d",
   "metadata": {},
   "outputs": [
    {
     "name": "stdout",
     "output_type": "stream",
     "text": [
      "X_TRAIN\n"
     ]
    },
    {
     "data": {
      "text/html": [
       "<div>\n",
       "<style scoped>\n",
       "    .dataframe tbody tr th:only-of-type {\n",
       "        vertical-align: middle;\n",
       "    }\n",
       "\n",
       "    .dataframe tbody tr th {\n",
       "        vertical-align: top;\n",
       "    }\n",
       "\n",
       "    .dataframe thead th {\n",
       "        text-align: right;\n",
       "    }\n",
       "</style>\n",
       "<table border=\"1\" class=\"dataframe\">\n",
       "  <thead>\n",
       "    <tr style=\"text-align: right;\">\n",
       "      <th></th>\n",
       "      <th>SepalLengthCm</th>\n",
       "      <th>SepalWidthCm</th>\n",
       "      <th>PetalLengthCm</th>\n",
       "      <th>PetalWidthCm</th>\n",
       "    </tr>\n",
       "  </thead>\n",
       "  <tbody>\n",
       "    <tr>\n",
       "      <th>46</th>\n",
       "      <td>5.1</td>\n",
       "      <td>3.8</td>\n",
       "      <td>1.6</td>\n",
       "      <td>0.2</td>\n",
       "    </tr>\n",
       "    <tr>\n",
       "      <th>106</th>\n",
       "      <td>4.9</td>\n",
       "      <td>2.5</td>\n",
       "      <td>4.5</td>\n",
       "      <td>1.7</td>\n",
       "    </tr>\n",
       "    <tr>\n",
       "      <th>100</th>\n",
       "      <td>6.3</td>\n",
       "      <td>3.3</td>\n",
       "      <td>6.0</td>\n",
       "      <td>2.5</td>\n",
       "    </tr>\n",
       "    <tr>\n",
       "      <th>142</th>\n",
       "      <td>5.8</td>\n",
       "      <td>2.7</td>\n",
       "      <td>5.1</td>\n",
       "      <td>1.9</td>\n",
       "    </tr>\n",
       "    <tr>\n",
       "      <th>29</th>\n",
       "      <td>4.7</td>\n",
       "      <td>3.2</td>\n",
       "      <td>1.6</td>\n",
       "      <td>0.2</td>\n",
       "    </tr>\n",
       "    <tr>\n",
       "      <th>...</th>\n",
       "      <td>...</td>\n",
       "      <td>...</td>\n",
       "      <td>...</td>\n",
       "      <td>...</td>\n",
       "    </tr>\n",
       "    <tr>\n",
       "      <th>13</th>\n",
       "      <td>4.3</td>\n",
       "      <td>NaN</td>\n",
       "      <td>1.1</td>\n",
       "      <td>0.1</td>\n",
       "    </tr>\n",
       "    <tr>\n",
       "      <th>53</th>\n",
       "      <td>5.5</td>\n",
       "      <td>2.3</td>\n",
       "      <td>4.0</td>\n",
       "      <td>1.3</td>\n",
       "    </tr>\n",
       "    <tr>\n",
       "      <th>124</th>\n",
       "      <td>6.7</td>\n",
       "      <td>3.3</td>\n",
       "      <td>5.7</td>\n",
       "      <td>2.1</td>\n",
       "    </tr>\n",
       "    <tr>\n",
       "      <th>50</th>\n",
       "      <td>7.0</td>\n",
       "      <td>3.2</td>\n",
       "      <td>4.7</td>\n",
       "      <td>1.4</td>\n",
       "    </tr>\n",
       "    <tr>\n",
       "      <th>5</th>\n",
       "      <td>5.4</td>\n",
       "      <td>3.9</td>\n",
       "      <td>1.7</td>\n",
       "      <td>0.4</td>\n",
       "    </tr>\n",
       "  </tbody>\n",
       "</table>\n",
       "<p>120 rows × 4 columns</p>\n",
       "</div>"
      ],
      "text/plain": [
       "     SepalLengthCm  SepalWidthCm  PetalLengthCm  PetalWidthCm\n",
       "46             5.1           3.8            1.6           0.2\n",
       "106            4.9           2.5            4.5           1.7\n",
       "100            6.3           3.3            6.0           2.5\n",
       "142            5.8           2.7            5.1           1.9\n",
       "29             4.7           3.2            1.6           0.2\n",
       "..             ...           ...            ...           ...\n",
       "13             4.3           NaN            1.1           0.1\n",
       "53             5.5           2.3            4.0           1.3\n",
       "124            6.7           3.3            5.7           2.1\n",
       "50             7.0           3.2            4.7           1.4\n",
       "5              5.4           3.9            1.7           0.4\n",
       "\n",
       "[120 rows x 4 columns]"
      ]
     },
     "execution_count": 24,
     "metadata": {},
     "output_type": "execute_result"
    }
   ],
   "source": [
    "print(\"X_TRAIN\")\n",
    "x_train.head(5000)"
   ]
  },
  {
   "cell_type": "code",
   "execution_count": 18,
   "id": "b5063a71",
   "metadata": {},
   "outputs": [
    {
     "data": {
      "text/html": [
       "<div>\n",
       "<style scoped>\n",
       "    .dataframe tbody tr th:only-of-type {\n",
       "        vertical-align: middle;\n",
       "    }\n",
       "\n",
       "    .dataframe tbody tr th {\n",
       "        vertical-align: top;\n",
       "    }\n",
       "\n",
       "    .dataframe thead th {\n",
       "        text-align: right;\n",
       "    }\n",
       "</style>\n",
       "<table border=\"1\" class=\"dataframe\">\n",
       "  <thead>\n",
       "    <tr style=\"text-align: right;\">\n",
       "      <th></th>\n",
       "      <th>0</th>\n",
       "      <th>1</th>\n",
       "      <th>2</th>\n",
       "      <th>4</th>\n",
       "      <th>5</th>\n",
       "      <th>6</th>\n",
       "      <th>8</th>\n",
       "      <th>9</th>\n",
       "      <th>12</th>\n",
       "      <th>13</th>\n",
       "      <th>...</th>\n",
       "      <th>142</th>\n",
       "      <th>143</th>\n",
       "      <th>145</th>\n",
       "      <th>147</th>\n",
       "      <th>148</th>\n",
       "      <th>149</th>\n",
       "      <th>PetalLengthCm</th>\n",
       "      <th>PetalWidthCm</th>\n",
       "      <th>SepalLengthCm</th>\n",
       "      <th>SepalWidthCm</th>\n",
       "    </tr>\n",
       "  </thead>\n",
       "  <tbody>\n",
       "    <tr>\n",
       "      <th>148</th>\n",
       "      <td>NaN</td>\n",
       "      <td>NaN</td>\n",
       "      <td>NaN</td>\n",
       "      <td>NaN</td>\n",
       "      <td>NaN</td>\n",
       "      <td>NaN</td>\n",
       "      <td>NaN</td>\n",
       "      <td>NaN</td>\n",
       "      <td>NaN</td>\n",
       "      <td>NaN</td>\n",
       "      <td>...</td>\n",
       "      <td>NaN</td>\n",
       "      <td>NaN</td>\n",
       "      <td>NaN</td>\n",
       "      <td>NaN</td>\n",
       "      <td>NaN</td>\n",
       "      <td>NaN</td>\n",
       "      <td>NaN</td>\n",
       "      <td>NaN</td>\n",
       "      <td>NaN</td>\n",
       "      <td>NaN</td>\n",
       "    </tr>\n",
       "    <tr>\n",
       "      <th>139</th>\n",
       "      <td>NaN</td>\n",
       "      <td>NaN</td>\n",
       "      <td>NaN</td>\n",
       "      <td>NaN</td>\n",
       "      <td>NaN</td>\n",
       "      <td>NaN</td>\n",
       "      <td>NaN</td>\n",
       "      <td>NaN</td>\n",
       "      <td>NaN</td>\n",
       "      <td>NaN</td>\n",
       "      <td>...</td>\n",
       "      <td>NaN</td>\n",
       "      <td>NaN</td>\n",
       "      <td>NaN</td>\n",
       "      <td>NaN</td>\n",
       "      <td>NaN</td>\n",
       "      <td>NaN</td>\n",
       "      <td>NaN</td>\n",
       "      <td>NaN</td>\n",
       "      <td>NaN</td>\n",
       "      <td>NaN</td>\n",
       "    </tr>\n",
       "    <tr>\n",
       "      <th>90</th>\n",
       "      <td>NaN</td>\n",
       "      <td>NaN</td>\n",
       "      <td>NaN</td>\n",
       "      <td>NaN</td>\n",
       "      <td>NaN</td>\n",
       "      <td>NaN</td>\n",
       "      <td>NaN</td>\n",
       "      <td>NaN</td>\n",
       "      <td>NaN</td>\n",
       "      <td>NaN</td>\n",
       "      <td>...</td>\n",
       "      <td>NaN</td>\n",
       "      <td>NaN</td>\n",
       "      <td>NaN</td>\n",
       "      <td>NaN</td>\n",
       "      <td>NaN</td>\n",
       "      <td>NaN</td>\n",
       "      <td>NaN</td>\n",
       "      <td>NaN</td>\n",
       "      <td>NaN</td>\n",
       "      <td>NaN</td>\n",
       "    </tr>\n",
       "    <tr>\n",
       "      <th>0</th>\n",
       "      <td>NaN</td>\n",
       "      <td>NaN</td>\n",
       "      <td>NaN</td>\n",
       "      <td>NaN</td>\n",
       "      <td>NaN</td>\n",
       "      <td>NaN</td>\n",
       "      <td>NaN</td>\n",
       "      <td>NaN</td>\n",
       "      <td>NaN</td>\n",
       "      <td>NaN</td>\n",
       "      <td>...</td>\n",
       "      <td>NaN</td>\n",
       "      <td>NaN</td>\n",
       "      <td>NaN</td>\n",
       "      <td>NaN</td>\n",
       "      <td>NaN</td>\n",
       "      <td>NaN</td>\n",
       "      <td>NaN</td>\n",
       "      <td>NaN</td>\n",
       "      <td>NaN</td>\n",
       "      <td>NaN</td>\n",
       "    </tr>\n",
       "    <tr>\n",
       "      <th>91</th>\n",
       "      <td>NaN</td>\n",
       "      <td>NaN</td>\n",
       "      <td>NaN</td>\n",
       "      <td>NaN</td>\n",
       "      <td>NaN</td>\n",
       "      <td>NaN</td>\n",
       "      <td>NaN</td>\n",
       "      <td>NaN</td>\n",
       "      <td>NaN</td>\n",
       "      <td>NaN</td>\n",
       "      <td>...</td>\n",
       "      <td>NaN</td>\n",
       "      <td>NaN</td>\n",
       "      <td>NaN</td>\n",
       "      <td>NaN</td>\n",
       "      <td>NaN</td>\n",
       "      <td>NaN</td>\n",
       "      <td>NaN</td>\n",
       "      <td>NaN</td>\n",
       "      <td>NaN</td>\n",
       "      <td>NaN</td>\n",
       "    </tr>\n",
       "  </tbody>\n",
       "</table>\n",
       "<p>5 rows × 124 columns</p>\n",
       "</div>"
      ],
      "text/plain": [
       "       0    1    2    4    5    6    8    9   12   13  ...  142  143  145  \\\n",
       "148  NaN  NaN  NaN  NaN  NaN  NaN  NaN  NaN  NaN  NaN  ...  NaN  NaN  NaN   \n",
       "139  NaN  NaN  NaN  NaN  NaN  NaN  NaN  NaN  NaN  NaN  ...  NaN  NaN  NaN   \n",
       "90   NaN  NaN  NaN  NaN  NaN  NaN  NaN  NaN  NaN  NaN  ...  NaN  NaN  NaN   \n",
       "0    NaN  NaN  NaN  NaN  NaN  NaN  NaN  NaN  NaN  NaN  ...  NaN  NaN  NaN   \n",
       "91   NaN  NaN  NaN  NaN  NaN  NaN  NaN  NaN  NaN  NaN  ...  NaN  NaN  NaN   \n",
       "\n",
       "     147  148  149 PetalLengthCm PetalWidthCm SepalLengthCm SepalWidthCm  \n",
       "148  NaN  NaN  NaN           NaN          NaN           NaN          NaN  \n",
       "139  NaN  NaN  NaN           NaN          NaN           NaN          NaN  \n",
       "90   NaN  NaN  NaN           NaN          NaN           NaN          NaN  \n",
       "0    NaN  NaN  NaN           NaN          NaN           NaN          NaN  \n",
       "91   NaN  NaN  NaN           NaN          NaN           NaN          NaN  \n",
       "\n",
       "[5 rows x 124 columns]"
      ]
     },
     "execution_count": 18,
     "metadata": {},
     "output_type": "execute_result"
    }
   ],
   "source": []
  },
  {
   "cell_type": "code",
   "execution_count": 25,
   "id": "bf80bac4",
   "metadata": {},
   "outputs": [
    {
     "name": "stdout",
     "output_type": "stream",
     "text": [
      "Y_TRAIN\n"
     ]
    },
    {
     "data": {
      "text/plain": [
       "46         Iris-setosa\n",
       "106     Iris-virginica\n",
       "100     Iris-virginica\n",
       "142     Iris-virginica\n",
       "29         Iris-setosa\n",
       "            ...       \n",
       "13         Iris-setosa\n",
       "53     Iris-versicolor\n",
       "124     Iris-virginica\n",
       "50     Iris-versicolor\n",
       "5          Iris-setosa\n",
       "Name: Species, Length: 120, dtype: object"
      ]
     },
     "execution_count": 25,
     "metadata": {},
     "output_type": "execute_result"
    }
   ],
   "source": [
    "print(\"Y_TRAIN\")\n",
    "y_train.head(5000)"
   ]
  },
  {
   "cell_type": "code",
   "execution_count": 26,
   "id": "0fc91a6e",
   "metadata": {},
   "outputs": [
    {
     "name": "stdout",
     "output_type": "stream",
     "text": [
      "X_TEST\n"
     ]
    },
    {
     "data": {
      "text/html": [
       "<div>\n",
       "<style scoped>\n",
       "    .dataframe tbody tr th:only-of-type {\n",
       "        vertical-align: middle;\n",
       "    }\n",
       "\n",
       "    .dataframe tbody tr th {\n",
       "        vertical-align: top;\n",
       "    }\n",
       "\n",
       "    .dataframe thead th {\n",
       "        text-align: right;\n",
       "    }\n",
       "</style>\n",
       "<table border=\"1\" class=\"dataframe\">\n",
       "  <thead>\n",
       "    <tr style=\"text-align: right;\">\n",
       "      <th></th>\n",
       "      <th>SepalLengthCm</th>\n",
       "      <th>SepalWidthCm</th>\n",
       "      <th>PetalLengthCm</th>\n",
       "      <th>PetalWidthCm</th>\n",
       "    </tr>\n",
       "  </thead>\n",
       "  <tbody>\n",
       "    <tr>\n",
       "      <th>97</th>\n",
       "      <td>6.2</td>\n",
       "      <td>2.9</td>\n",
       "      <td>4.3</td>\n",
       "      <td>1.3</td>\n",
       "    </tr>\n",
       "    <tr>\n",
       "      <th>21</th>\n",
       "      <td>5.1</td>\n",
       "      <td>3.7</td>\n",
       "      <td>1.5</td>\n",
       "      <td>0.4</td>\n",
       "    </tr>\n",
       "    <tr>\n",
       "      <th>67</th>\n",
       "      <td>5.8</td>\n",
       "      <td>2.7</td>\n",
       "      <td>4.1</td>\n",
       "      <td>1.0</td>\n",
       "    </tr>\n",
       "    <tr>\n",
       "      <th>61</th>\n",
       "      <td>5.9</td>\n",
       "      <td>3.0</td>\n",
       "      <td>4.2</td>\n",
       "      <td>1.5</td>\n",
       "    </tr>\n",
       "    <tr>\n",
       "      <th>40</th>\n",
       "      <td>5.0</td>\n",
       "      <td>3.5</td>\n",
       "      <td>1.3</td>\n",
       "      <td>0.3</td>\n",
       "    </tr>\n",
       "    <tr>\n",
       "      <th>107</th>\n",
       "      <td>7.3</td>\n",
       "      <td>2.9</td>\n",
       "      <td>6.3</td>\n",
       "      <td>1.8</td>\n",
       "    </tr>\n",
       "    <tr>\n",
       "      <th>99</th>\n",
       "      <td>5.7</td>\n",
       "      <td>2.8</td>\n",
       "      <td>4.1</td>\n",
       "      <td>1.3</td>\n",
       "    </tr>\n",
       "    <tr>\n",
       "      <th>43</th>\n",
       "      <td>5.0</td>\n",
       "      <td>3.5</td>\n",
       "      <td>1.6</td>\n",
       "      <td>0.6</td>\n",
       "    </tr>\n",
       "    <tr>\n",
       "      <th>28</th>\n",
       "      <td>5.2</td>\n",
       "      <td>3.4</td>\n",
       "      <td>1.4</td>\n",
       "      <td>0.2</td>\n",
       "    </tr>\n",
       "    <tr>\n",
       "      <th>85</th>\n",
       "      <td>6.0</td>\n",
       "      <td>3.4</td>\n",
       "      <td>4.5</td>\n",
       "      <td>1.6</td>\n",
       "    </tr>\n",
       "    <tr>\n",
       "      <th>133</th>\n",
       "      <td>6.3</td>\n",
       "      <td>2.8</td>\n",
       "      <td>5.1</td>\n",
       "      <td>1.5</td>\n",
       "    </tr>\n",
       "    <tr>\n",
       "      <th>38</th>\n",
       "      <td>4.4</td>\n",
       "      <td>3.0</td>\n",
       "      <td>1.3</td>\n",
       "      <td>0.2</td>\n",
       "    </tr>\n",
       "    <tr>\n",
       "      <th>19</th>\n",
       "      <td>5.1</td>\n",
       "      <td>3.8</td>\n",
       "      <td>1.5</td>\n",
       "      <td>0.3</td>\n",
       "    </tr>\n",
       "    <tr>\n",
       "      <th>8</th>\n",
       "      <td>4.4</td>\n",
       "      <td>2.9</td>\n",
       "      <td>1.4</td>\n",
       "      <td>0.2</td>\n",
       "    </tr>\n",
       "    <tr>\n",
       "      <th>121</th>\n",
       "      <td>5.6</td>\n",
       "      <td>2.8</td>\n",
       "      <td>4.9</td>\n",
       "      <td>2.0</td>\n",
       "    </tr>\n",
       "    <tr>\n",
       "      <th>33</th>\n",
       "      <td>5.5</td>\n",
       "      <td>4.2</td>\n",
       "      <td>1.4</td>\n",
       "      <td>0.2</td>\n",
       "    </tr>\n",
       "    <tr>\n",
       "      <th>17</th>\n",
       "      <td>5.1</td>\n",
       "      <td>3.5</td>\n",
       "      <td>1.4</td>\n",
       "      <td>0.3</td>\n",
       "    </tr>\n",
       "    <tr>\n",
       "      <th>140</th>\n",
       "      <td>6.7</td>\n",
       "      <td>3.1</td>\n",
       "      <td>5.6</td>\n",
       "      <td>2.4</td>\n",
       "    </tr>\n",
       "    <tr>\n",
       "      <th>141</th>\n",
       "      <td>6.9</td>\n",
       "      <td>3.1</td>\n",
       "      <td>5.1</td>\n",
       "      <td>2.3</td>\n",
       "    </tr>\n",
       "    <tr>\n",
       "      <th>62</th>\n",
       "      <td>6.0</td>\n",
       "      <td>2.2</td>\n",
       "      <td>4.0</td>\n",
       "      <td>1.0</td>\n",
       "    </tr>\n",
       "    <tr>\n",
       "      <th>63</th>\n",
       "      <td>6.1</td>\n",
       "      <td>2.9</td>\n",
       "      <td>4.7</td>\n",
       "      <td>1.4</td>\n",
       "    </tr>\n",
       "    <tr>\n",
       "      <th>149</th>\n",
       "      <td>5.9</td>\n",
       "      <td>3.0</td>\n",
       "      <td>5.1</td>\n",
       "      <td>1.8</td>\n",
       "    </tr>\n",
       "    <tr>\n",
       "      <th>58</th>\n",
       "      <td>6.6</td>\n",
       "      <td>2.9</td>\n",
       "      <td>4.6</td>\n",
       "      <td>1.3</td>\n",
       "    </tr>\n",
       "    <tr>\n",
       "      <th>3</th>\n",
       "      <td>4.6</td>\n",
       "      <td>3.1</td>\n",
       "      <td>1.5</td>\n",
       "      <td>0.2</td>\n",
       "    </tr>\n",
       "    <tr>\n",
       "      <th>4</th>\n",
       "      <td>5.0</td>\n",
       "      <td>3.6</td>\n",
       "      <td>1.4</td>\n",
       "      <td>0.2</td>\n",
       "    </tr>\n",
       "    <tr>\n",
       "      <th>26</th>\n",
       "      <td>5.0</td>\n",
       "      <td>3.4</td>\n",
       "      <td>1.6</td>\n",
       "      <td>0.4</td>\n",
       "    </tr>\n",
       "    <tr>\n",
       "      <th>30</th>\n",
       "      <td>4.8</td>\n",
       "      <td>3.1</td>\n",
       "      <td>1.6</td>\n",
       "      <td>0.2</td>\n",
       "    </tr>\n",
       "    <tr>\n",
       "      <th>135</th>\n",
       "      <td>7.7</td>\n",
       "      <td>3.0</td>\n",
       "      <td>6.1</td>\n",
       "      <td>2.3</td>\n",
       "    </tr>\n",
       "    <tr>\n",
       "      <th>51</th>\n",
       "      <td>6.4</td>\n",
       "      <td>3.2</td>\n",
       "      <td>4.5</td>\n",
       "      <td>1.5</td>\n",
       "    </tr>\n",
       "    <tr>\n",
       "      <th>1</th>\n",
       "      <td>4.9</td>\n",
       "      <td>3.0</td>\n",
       "      <td>1.4</td>\n",
       "      <td>0.2</td>\n",
       "    </tr>\n",
       "  </tbody>\n",
       "</table>\n",
       "</div>"
      ],
      "text/plain": [
       "     SepalLengthCm  SepalWidthCm  PetalLengthCm  PetalWidthCm\n",
       "97             6.2           2.9            4.3           1.3\n",
       "21             5.1           3.7            1.5           0.4\n",
       "67             5.8           2.7            4.1           1.0\n",
       "61             5.9           3.0            4.2           1.5\n",
       "40             5.0           3.5            1.3           0.3\n",
       "107            7.3           2.9            6.3           1.8\n",
       "99             5.7           2.8            4.1           1.3\n",
       "43             5.0           3.5            1.6           0.6\n",
       "28             5.2           3.4            1.4           0.2\n",
       "85             6.0           3.4            4.5           1.6\n",
       "133            6.3           2.8            5.1           1.5\n",
       "38             4.4           3.0            1.3           0.2\n",
       "19             5.1           3.8            1.5           0.3\n",
       "8              4.4           2.9            1.4           0.2\n",
       "121            5.6           2.8            4.9           2.0\n",
       "33             5.5           4.2            1.4           0.2\n",
       "17             5.1           3.5            1.4           0.3\n",
       "140            6.7           3.1            5.6           2.4\n",
       "141            6.9           3.1            5.1           2.3\n",
       "62             6.0           2.2            4.0           1.0\n",
       "63             6.1           2.9            4.7           1.4\n",
       "149            5.9           3.0            5.1           1.8\n",
       "58             6.6           2.9            4.6           1.3\n",
       "3              4.6           3.1            1.5           0.2\n",
       "4              5.0           3.6            1.4           0.2\n",
       "26             5.0           3.4            1.6           0.4\n",
       "30             4.8           3.1            1.6           0.2\n",
       "135            7.7           3.0            6.1           2.3\n",
       "51             6.4           3.2            4.5           1.5\n",
       "1              4.9           3.0            1.4           0.2"
      ]
     },
     "execution_count": 26,
     "metadata": {},
     "output_type": "execute_result"
    }
   ],
   "source": [
    "print(\"X_TEST\")\n",
    "x_test.head(5000)"
   ]
  },
  {
   "cell_type": "code",
   "execution_count": 27,
   "id": "0c9a0fec",
   "metadata": {},
   "outputs": [
    {
     "name": "stdout",
     "output_type": "stream",
     "text": [
      "Y_TEST\n"
     ]
    },
    {
     "data": {
      "text/plain": [
       "97     Iris-versicolor\n",
       "21         Iris-setosa\n",
       "67     Iris-versicolor\n",
       "61     Iris-versicolor\n",
       "40         Iris-setosa\n",
       "107     Iris-virginica\n",
       "99     Iris-versicolor\n",
       "43         Iris-setosa\n",
       "28         Iris-setosa\n",
       "85     Iris-versicolor\n",
       "133     Iris-virginica\n",
       "38         Iris-setosa\n",
       "19         Iris-setosa\n",
       "8          Iris-setosa\n",
       "121     Iris-virginica\n",
       "33         Iris-setosa\n",
       "17         Iris-setosa\n",
       "140     Iris-virginica\n",
       "141     Iris-virginica\n",
       "62     Iris-versicolor\n",
       "63     Iris-versicolor\n",
       "149     Iris-virginica\n",
       "58     Iris-versicolor\n",
       "3          Iris-setosa\n",
       "4          Iris-setosa\n",
       "26         Iris-setosa\n",
       "30         Iris-setosa\n",
       "135     Iris-virginica\n",
       "51     Iris-versicolor\n",
       "1          Iris-setosa\n",
       "Name: Species, dtype: object"
      ]
     },
     "execution_count": 27,
     "metadata": {},
     "output_type": "execute_result"
    }
   ],
   "source": [
    "print(\"Y_TEST\")\n",
    "y_test.head(5000)"
   ]
  },
  {
   "cell_type": "markdown",
   "id": "9f6e6733",
   "metadata": {},
   "source": [
    "### Box Plot and outliers"
   ]
  },
  {
   "cell_type": "code",
   "execution_count": 29,
   "id": "98a22199",
   "metadata": {},
   "outputs": [],
   "source": [
    "import seaborn as sns"
   ]
  },
  {
   "cell_type": "code",
   "execution_count": 34,
   "id": "a299eea6",
   "metadata": {},
   "outputs": [
    {
     "data": {
      "text/plain": [
       "<AxesSubplot:>"
      ]
     },
     "execution_count": 34,
     "metadata": {},
     "output_type": "execute_result"
    },
    {
     "data": {
      "image/png": "[encoded data removed]",
      "text/plain": [
       "<Figure size 432x288 with 1 Axes>"
      ]
     },
     "metadata": {
      "needs_background": "light"
     },
     "output_type": "display_data"
    }
   ],
   "source": [
    "iris_ds[['SepalLengthCm','SepalWidthCm','PetalLengthCm','PetalWidthCm']].plot(kind='box')"
   ]
  },
  {
   "cell_type": "markdown",
   "id": "ff823b8d",
   "metadata": {},
   "source": [
    "### Prediction using Linear Regression for winequality dataset"
   ]
  },
  {
   "cell_type": "markdown",
   "id": "5c4772c4",
   "metadata": {},
   "source": [
    "Importing wine quality dataset"
   ]
  },
  {
   "cell_type": "code",
   "execution_count": 35,
   "id": "be4a5ee5",
   "metadata": {},
   "outputs": [],
   "source": [
    "wine_ds= pd.read_csv(r'C:\\Users\\Admin\\20071A05A2_ML_LAB\\DataSets\\winequality.csv')"
   ]
  },
  {
   "cell_type": "markdown",
   "id": "547558ee",
   "metadata": {},
   "source": [
    "Eliminating null values"
   ]
  },
  {
   "cell_type": "code",
   "execution_count": 37,
   "id": "4590a3e1",
   "metadata": {},
   "outputs": [
    {
     "data": {
      "text/plain": [
       "type                     0\n",
       "fixed acidity           10\n",
       "volatile acidity         8\n",
       "citric acid              3\n",
       "residual sugar           2\n",
       "chlorides                2\n",
       "free sulfur dioxide      0\n",
       "total sulfur dioxide     0\n",
       "density                  0\n",
       "pH                       9\n",
       "sulphates                4\n",
       "alcohol                  0\n",
       "quality                  0\n",
       "dtype: int64"
      ]
     },
     "execution_count": 37,
     "metadata": {},
     "output_type": "execute_result"
    }
   ],
   "source": [
    "wine_ds.isnull().sum()"
   ]
  },
  {
   "cell_type": "code",
   "execution_count": 42,
   "id": "c2883989",
   "metadata": {},
   "outputs": [],
   "source": [
    "wine_ds['fixed acidity']=wine_ds['fixed acidity'].fillna(wine_ds['fixed acidity'].mean())\n",
    "wine_ds['volatile acidity']=wine_ds['volatile acidity'].fillna(wine_ds['volatile acidity'].mean())\n",
    "wine_ds['citric acid']=wine_ds['citric acid'].fillna(wine_ds['citric acid'].mean())\n",
    "wine_ds['residual sugar']=wine_ds['residual sugar'].fillna(wine_ds['residual sugar'].mean())\n",
    "wine_ds['pH']=wine_ds['pH'].fillna(wine_ds['pH'].mean())\n",
    "wine_ds['chlorides']=wine_ds['chlorides'].fillna(wine_ds['chlorides'].mean())\n",
    "wine_ds['sulphates']=wine_ds['sulphates'].fillna(wine_ds['sulphates'].mean())"
   ]
  },
  {
   "cell_type": "code",
   "execution_count": 45,
   "id": "becb68f4",
   "metadata": {},
   "outputs": [
    {
     "name": "stdout",
     "output_type": "stream",
     "text": [
      "The null values after modification : 0\n"
     ]
    }
   ],
   "source": [
    "print(\"The null values after modification :\" ,wine_ds.isnull().sum().sum())"
   ]
  },
  {
   "cell_type": "code",
   "execution_count": 47,
   "id": "72d55b71",
   "metadata": {},
   "outputs": [
    {
     "name": "stdout",
     "output_type": "stream",
     "text": [
      "The number of duplicated rows are:  1168\n"
     ]
    }
   ],
   "source": [
    "print(\"The number of duplicated rows are: \", wine_ds.duplicated().sum())"
   ]
  },
  {
   "cell_type": "markdown",
   "id": "6af48041",
   "metadata": {},
   "source": [
    "Dropping the duplicates"
   ]
  },
  {
   "cell_type": "code",
   "execution_count": 64,
   "id": "07b1d61d",
   "metadata": {},
   "outputs": [],
   "source": [
    "wine_ds=wine_ds.drop_duplicates()"
   ]
  },
  {
   "cell_type": "code",
   "execution_count": 65,
   "id": "4bc8bc47",
   "metadata": {},
   "outputs": [
    {
     "name": "stdout",
     "output_type": "stream",
     "text": [
      "The number of duplicated rows are:  0\n"
     ]
    }
   ],
   "source": [
    "print(\"The number of duplicated rows are: \", wine_ds.duplicated().sum())"
   ]
  },
  {
   "cell_type": "markdown",
   "id": "1b3adced",
   "metadata": {},
   "source": [
    "Splitting the dataset into train and test datasets"
   ]
  },
  {
   "cell_type": "code",
   "execution_count": 81,
   "id": "99628a11",
   "metadata": {},
   "outputs": [],
   "source": [
    "wine_ds.columns\n",
    "red_wine_ds=wine_ds.loc[wine_ds['type'] == 'red']"
   ]
  },
  {
   "cell_type": "code",
   "execution_count": 82,
   "id": "c8044e72",
   "metadata": {},
   "outputs": [],
   "source": [
    "x=red_wine_ds[[ 'fixed acidity', 'volatile acidity', 'citric acid','residual sugar', 'chlorides', 'free sulfur dioxide','total sulfur dioxide', 'density', 'pH', 'sulphates', 'alcohol']]\n",
    "y=red_wine_ds['quality']"
   ]
  },
  {
   "cell_type": "code",
   "execution_count": 83,
   "id": "050f578c",
   "metadata": {},
   "outputs": [],
   "source": [
    "x_red_train ,x_red_test ,y_red_train,y_red_test =train_test_split(x,y,test_size=0.20)"
   ]
  },
  {
   "cell_type": "code",
   "execution_count": 84,
   "id": "558078bd",
   "metadata": {},
   "outputs": [
    {
     "name": "stdout",
     "output_type": "stream",
     "text": [
      "X-train\n",
      "      fixed acidity  volatile acidity  citric acid  residual sugar  chlorides  \\\n",
      "5602            9.1             0.765         0.04             1.6      0.078   \n",
      "6114            7.9             0.570         0.31             2.0      0.079   \n",
      "6125            9.0             0.580         0.25             2.0      0.104   \n",
      "5056            7.1             0.680         0.00             2.2      0.073   \n",
      "6047           10.0             0.350         0.47             2.0      0.061   \n",
      "...             ...               ...          ...             ...        ...   \n",
      "6430            7.2             0.530         0.13             2.0      0.058   \n",
      "5420            8.2             0.390         0.49             2.3      0.099   \n",
      "5293           12.0             0.370         0.76             4.2      0.066   \n",
      "5408           12.4             0.420         0.49             4.6      0.073   \n",
      "5625            6.4             0.570         0.02             1.8      0.067   \n",
      "\n",
      "      free sulfur dioxide  total sulfur dioxide  density    pH  sulphates  \\\n",
      "5602                  4.0                  14.0  0.99800  3.29       0.54   \n",
      "6114                 10.0                  79.0  0.99677  3.29       0.69   \n",
      "6125                  8.0                  21.0  0.99769  3.27       0.72   \n",
      "5056                 12.0                  22.0  0.99690  3.48       0.50   \n",
      "6047                  6.0                  11.0  0.99585  3.23       0.52   \n",
      "...                   ...                   ...      ...   ...        ...   \n",
      "6430                 18.0                  22.0  0.99573  3.21       0.68   \n",
      "5420                 47.0                 133.0  0.99790  3.38       0.99   \n",
      "5293                  7.0                  38.0  1.00040  3.22       0.60   \n",
      "5408                 19.0                  43.0  0.99780  3.02       0.61   \n",
      "5625                  4.0                  11.0  0.99700  3.46       0.68   \n",
      "\n",
      "      alcohol  \n",
      "5602      9.7  \n",
      "6114      9.5  \n",
      "6125      9.6  \n",
      "5056      9.3  \n",
      "6047     12.0  \n",
      "...       ...  \n",
      "6430      9.9  \n",
      "5420      9.8  \n",
      "5293     13.0  \n",
      "5408      9.5  \n",
      "5625      9.5  \n",
      "\n",
      "[1087 rows x 11 columns]\n",
      "X-test\n",
      "      fixed acidity  volatile acidity  citric acid  residual sugar  chlorides  \\\n",
      "6330            5.9             0.440         0.00             1.6      0.042   \n",
      "6257           11.6             0.475         0.40             1.4      0.091   \n",
      "5145            8.2             0.600         0.17             2.3      0.072   \n",
      "6244            6.1             0.590         0.01             2.1      0.056   \n",
      "5472           10.6             0.340         0.49             3.2      0.078   \n",
      "...             ...               ...          ...             ...        ...   \n",
      "5658            9.0             0.580         0.25             2.8      0.075   \n",
      "5707            7.6             0.480         0.31             2.8      0.070   \n",
      "5240           10.9             0.390         0.47             1.8      0.118   \n",
      "5450            9.5             0.460         0.24             2.7      0.092   \n",
      "6367            7.3             0.980         0.05             2.1      0.061   \n",
      "\n",
      "      free sulfur dioxide  total sulfur dioxide  density    pH  sulphates  \\\n",
      "6330                  3.0                  11.0  0.99440  3.48       0.85   \n",
      "6257                  6.0                  28.0  0.99704  3.07       0.65   \n",
      "5145                 11.0                  73.0  0.99630  3.20       0.45   \n",
      "6244                  5.0                  13.0  0.99472  3.52       0.56   \n",
      "5472                 20.0                  78.0  0.99920  3.19       0.70   \n",
      "...                   ...                   ...      ...   ...        ...   \n",
      "5658                  9.0                 104.0  0.99779  3.23       0.57   \n",
      "5707                  4.0                  15.0  0.99693  3.22       0.55   \n",
      "5240                  6.0                  14.0  0.99820  3.30       0.75   \n",
      "5450                 14.0                  44.0  0.99800  3.12       0.74   \n",
      "6367                 20.0                  49.0  0.99705  3.31       0.55   \n",
      "\n",
      "        alcohol  \n",
      "6330  11.700000  \n",
      "6257  10.033333  \n",
      "5145   9.300000  \n",
      "6244  11.400000  \n",
      "5472  10.000000  \n",
      "...         ...  \n",
      "5658   9.700000  \n",
      "5707  10.300000  \n",
      "5240   9.800000  \n",
      "5450  10.000000  \n",
      "6367   9.700000  \n",
      "\n",
      "[272 rows x 11 columns]\n",
      "Y-train\n",
      "5602    4\n",
      "6114    6\n",
      "6125    5\n",
      "5056    5\n",
      "6047    6\n",
      "       ..\n",
      "6430    6\n",
      "5420    5\n",
      "5293    7\n",
      "5408    5\n",
      "5625    5\n",
      "Name: quality, Length: 1087, dtype: int64\n",
      "Y-test\n",
      "6330    6\n",
      "6257    6\n",
      "5145    5\n",
      "6244    5\n",
      "5472    6\n",
      "       ..\n",
      "5658    5\n",
      "5707    6\n",
      "5240    6\n",
      "5450    6\n",
      "6367    3\n",
      "Name: quality, Length: 272, dtype: int64\n"
     ]
    }
   ],
   "source": [
    "print(\"X-train\")\n",
    "print(x_red_train)\n",
    "print(\"X-test\")\n",
    "print(x_red_test)\n",
    "print(\"Y-train\")\n",
    "print(y_red_train)\n",
    "print(\"Y-test\")\n",
    "print(y_red_test)"
   ]
  },
  {
   "cell_type": "markdown",
   "id": "6c069aab",
   "metadata": {},
   "source": [
    "Importing Linear Regression model from sklearn"
   ]
  },
  {
   "cell_type": "code",
   "execution_count": 85,
   "id": "e84600f1",
   "metadata": {},
   "outputs": [],
   "source": [
    "from sklearn.linear_model import LinearRegression"
   ]
  },
  {
   "cell_type": "code",
   "execution_count": 86,
   "id": "e6cb41bf",
   "metadata": {},
   "outputs": [
    {
     "name": "stdout",
     "output_type": "stream",
     "text": [
      "0.3508908947869088\n"
     ]
    }
   ],
   "source": [
    "regr = LinearRegression()\n",
    "regr.fit(x_red_train, y_red_train)\n",
    "print(regr.score(x_red_test, y_red_test))"
   ]
  },
  {
   "cell_type": "code",
   "execution_count": 123,
   "id": "99339567",
   "metadata": {},
   "outputs": [],
   "source": [
    "y_pred = regr.predict(x_red_test)"
   ]
  },
  {
   "cell_type": "code",
   "execution_count": 135,
   "id": "e1ab281d",
   "metadata": {},
   "outputs": [
    {
     "data": {
      "text/html": [
       "<div>\n",
       "<style scoped>\n",
       "    .dataframe tbody tr th:only-of-type {\n",
       "        vertical-align: middle;\n",
       "    }\n",
       "\n",
       "    .dataframe tbody tr th {\n",
       "        vertical-align: top;\n",
       "    }\n",
       "\n",
       "    .dataframe thead th {\n",
       "        text-align: right;\n",
       "    }\n",
       "</style>\n",
       "<table border=\"1\" class=\"dataframe\">\n",
       "  <thead>\n",
       "    <tr style=\"text-align: right;\">\n",
       "      <th></th>\n",
       "      <th>fixed acidity</th>\n",
       "      <th>volatile acidity</th>\n",
       "      <th>citric acid</th>\n",
       "      <th>residual sugar</th>\n",
       "      <th>chlorides</th>\n",
       "      <th>free sulfur dioxide</th>\n",
       "      <th>total sulfur dioxide</th>\n",
       "      <th>density</th>\n",
       "      <th>pH</th>\n",
       "      <th>sulphates</th>\n",
       "      <th>alcohol</th>\n",
       "    </tr>\n",
       "  </thead>\n",
       "  <tbody>\n",
       "    <tr>\n",
       "      <th>6330</th>\n",
       "      <td>5.9</td>\n",
       "      <td>0.440</td>\n",
       "      <td>0.00</td>\n",
       "      <td>1.6</td>\n",
       "      <td>0.042</td>\n",
       "      <td>3.0</td>\n",
       "      <td>11.0</td>\n",
       "      <td>0.99440</td>\n",
       "      <td>3.48</td>\n",
       "      <td>0.85</td>\n",
       "      <td>11.700000</td>\n",
       "    </tr>\n",
       "    <tr>\n",
       "      <th>6257</th>\n",
       "      <td>11.6</td>\n",
       "      <td>0.475</td>\n",
       "      <td>0.40</td>\n",
       "      <td>1.4</td>\n",
       "      <td>0.091</td>\n",
       "      <td>6.0</td>\n",
       "      <td>28.0</td>\n",
       "      <td>0.99704</td>\n",
       "      <td>3.07</td>\n",
       "      <td>0.65</td>\n",
       "      <td>10.033333</td>\n",
       "    </tr>\n",
       "    <tr>\n",
       "      <th>5145</th>\n",
       "      <td>8.2</td>\n",
       "      <td>0.600</td>\n",
       "      <td>0.17</td>\n",
       "      <td>2.3</td>\n",
       "      <td>0.072</td>\n",
       "      <td>11.0</td>\n",
       "      <td>73.0</td>\n",
       "      <td>0.99630</td>\n",
       "      <td>3.20</td>\n",
       "      <td>0.45</td>\n",
       "      <td>9.300000</td>\n",
       "    </tr>\n",
       "    <tr>\n",
       "      <th>6244</th>\n",
       "      <td>6.1</td>\n",
       "      <td>0.590</td>\n",
       "      <td>0.01</td>\n",
       "      <td>2.1</td>\n",
       "      <td>0.056</td>\n",
       "      <td>5.0</td>\n",
       "      <td>13.0</td>\n",
       "      <td>0.99472</td>\n",
       "      <td>3.52</td>\n",
       "      <td>0.56</td>\n",
       "      <td>11.400000</td>\n",
       "    </tr>\n",
       "    <tr>\n",
       "      <th>5472</th>\n",
       "      <td>10.6</td>\n",
       "      <td>0.340</td>\n",
       "      <td>0.49</td>\n",
       "      <td>3.2</td>\n",
       "      <td>0.078</td>\n",
       "      <td>20.0</td>\n",
       "      <td>78.0</td>\n",
       "      <td>0.99920</td>\n",
       "      <td>3.19</td>\n",
       "      <td>0.70</td>\n",
       "      <td>10.000000</td>\n",
       "    </tr>\n",
       "  </tbody>\n",
       "</table>\n",
       "</div>"
      ],
      "text/plain": [
       "      fixed acidity  volatile acidity  citric acid  residual sugar  chlorides  \\\n",
       "6330            5.9             0.440         0.00             1.6      0.042   \n",
       "6257           11.6             0.475         0.40             1.4      0.091   \n",
       "5145            8.2             0.600         0.17             2.3      0.072   \n",
       "6244            6.1             0.590         0.01             2.1      0.056   \n",
       "5472           10.6             0.340         0.49             3.2      0.078   \n",
       "\n",
       "      free sulfur dioxide  total sulfur dioxide  density    pH  sulphates  \\\n",
       "6330                  3.0                  11.0  0.99440  3.48       0.85   \n",
       "6257                  6.0                  28.0  0.99704  3.07       0.65   \n",
       "5145                 11.0                  73.0  0.99630  3.20       0.45   \n",
       "6244                  5.0                  13.0  0.99472  3.52       0.56   \n",
       "5472                 20.0                  78.0  0.99920  3.19       0.70   \n",
       "\n",
       "        alcohol  \n",
       "6330  11.700000  \n",
       "6257  10.033333  \n",
       "5145   9.300000  \n",
       "6244  11.400000  \n",
       "5472  10.000000  "
      ]
     },
     "execution_count": 135,
     "metadata": {},
     "output_type": "execute_result"
    }
   ],
   "source": [
    "x_red_test.head()"
   ]
  },
  {
   "cell_type": "markdown",
   "id": "0ad13ab3",
   "metadata": {},
   "source": [
    "Predicted values "
   ]
  },
  {
   "cell_type": "code",
   "execution_count": 136,
   "id": "08b281ea",
   "metadata": {
    "scrolled": true
   },
   "outputs": [
    {
     "data": {
      "text/plain": [
       "array([6.43663462, 5.66171665, 5.02947097, 5.79803928, 5.73323603])"
      ]
     },
     "execution_count": 136,
     "metadata": {},
     "output_type": "execute_result"
    }
   ],
   "source": [
    "y_pred[0:5]"
   ]
  },
  {
   "cell_type": "markdown",
   "id": "bb573db2",
   "metadata": {},
   "source": [
    "Actual values"
   ]
  },
  {
   "cell_type": "code",
   "execution_count": 134,
   "id": "f96d2c82",
   "metadata": {},
   "outputs": [
    {
     "data": {
      "text/html": [
       "<div>\n",
       "<style scoped>\n",
       "    .dataframe tbody tr th:only-of-type {\n",
       "        vertical-align: middle;\n",
       "    }\n",
       "\n",
       "    .dataframe tbody tr th {\n",
       "        vertical-align: top;\n",
       "    }\n",
       "\n",
       "    .dataframe thead th {\n",
       "        text-align: right;\n",
       "    }\n",
       "</style>\n",
       "<table border=\"1\" class=\"dataframe\">\n",
       "  <thead>\n",
       "    <tr style=\"text-align: right;\">\n",
       "      <th></th>\n",
       "      <th>quality</th>\n",
       "    </tr>\n",
       "  </thead>\n",
       "  <tbody>\n",
       "    <tr>\n",
       "      <th>6330</th>\n",
       "      <td>6</td>\n",
       "    </tr>\n",
       "    <tr>\n",
       "      <th>6257</th>\n",
       "      <td>6</td>\n",
       "    </tr>\n",
       "    <tr>\n",
       "      <th>5145</th>\n",
       "      <td>5</td>\n",
       "    </tr>\n",
       "    <tr>\n",
       "      <th>6244</th>\n",
       "      <td>5</td>\n",
       "    </tr>\n",
       "    <tr>\n",
       "      <th>5472</th>\n",
       "      <td>6</td>\n",
       "    </tr>\n",
       "  </tbody>\n",
       "</table>\n",
       "</div>"
      ],
      "text/plain": [
       "      quality\n",
       "6330        6\n",
       "6257        6\n",
       "5145        5\n",
       "6244        5\n",
       "5472        6"
      ]
     },
     "execution_count": 134,
     "metadata": {},
     "output_type": "execute_result"
    }
   ],
   "source": [
    "y_red_test.head()"
   ]
  },
  {
   "cell_type": "markdown",
   "id": "abd31bb3",
   "metadata": {},
   "source": [
    "### Handling Outliers"
   ]
  },
  {
   "cell_type": "markdown",
   "id": "799ea3ea",
   "metadata": {},
   "source": [
    "https://www.pluralsight.com/guides/cleaning-up-data-from-outliers"
   ]
  },
  {
   "cell_type": "code",
   "execution_count": null,
   "id": "fc7b707d",
   "metadata": {},
   "outputs": [],
   "source": []
  }
 ],
 "metadata": {
  "kernelspec": {
   "display_name": "Python 3 (ipykernel)",
   "language": "python",
   "name": "python3"
  },
  "language_info": {
   "codemirror_mode": {
    "name": "ipython",
    "version": 3
   },
   "file_extension": ".py",
   "mimetype": "text/x-python",
   "name": "python",
   "nbconvert_exporter": "python",
   "pygments_lexer": "ipython3",
   "version": "3.9.12"
  }
 },
 "nbformat": 4,
 "nbformat_minor": 5
}
